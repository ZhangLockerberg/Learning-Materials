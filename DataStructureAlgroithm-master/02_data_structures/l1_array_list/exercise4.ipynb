{
 "cells": [
  {
   "cell_type": "code",
   "execution_count": 1,
   "metadata": {},
   "outputs": [],
   "source": [
    "#!/usr/bin/env python\n",
    "# coding: utf-8\n",
    "\n",
    "# # Linked List Practice\n",
    "# \n",
    "# Implement a linked list class. Your class should be able to:\n",
    "# \n",
    "# + Append data to the tail of the list and prepend to the head\n",
    "# + Search the linked list for a value and return the node\n",
    "# + Remove a node\n",
    "# + Pop, which means to return the first node's value and delete the node from the list\n",
    "# + Insert data at some position in the list\n",
    "# + Return the size (length) of the linked list"
   ]
  },
  {
   "cell_type": "code",
   "execution_count": 2,
   "metadata": {},
   "outputs": [],
   "source": [
    "class Node:\n",
    "    def __init__(self, value):\n",
    "        self.value = value\n",
    "        self.next = None"
   ]
  },
  {
   "cell_type": "code",
   "execution_count": 3,
   "metadata": {},
   "outputs": [],
   "source": [
    "class LinkedList:\n",
    "    def __init__(self):\n",
    "        self.head = None\n",
    "        self.tail = None\n",
    "        \n",
    "    def prepend(self, value):\n",
    "        \"\"\"Append data to the head of a linked list.\"\"\"\n",
    "        if self.head is None:\n",
    "            self.head = self.tail = Node(value)\n",
    "            return\n",
    "        \n",
    "        newnode = Node(value)\n",
    "        newnode.next = self.head\n",
    "        self.head = newnode\n",
    "        return\n",
    "    \n",
    "    def append(self, value):\n",
    "        \"\"\"Append data to the tail of a linked list.\"\"\"\n",
    "        if self.tail is None:\n",
    "            self.head = self.tail = Node(value)\n",
    "            return\n",
    "        \n",
    "        newnode = Node(value)\n",
    "        self.tail.next = newnode\n",
    "        self.tail = newnode\n",
    "        return\n",
    "    \n",
    "    def search(self, value):\n",
    "        \"\"\"Search for a value in a linked list and return the node\"\"\"\n",
    "        if self.head is None:\n",
    "            return None\n",
    "        \n",
    "        node = self.head\n",
    "        while node:\n",
    "            if node.value == value:\n",
    "                return node\n",
    "            node = node.next\n",
    "    \n",
    "    def pop(self):\n",
    "        \"\"\"Pop the first value of a node and delete the node.\"\"\"\n",
    "        if self.head is None:\n",
    "            return\n",
    "        \n",
    "        node = self.head\n",
    "        out_value = node.value\n",
    "        while node.next:\n",
    "            node = node.next\n",
    "        return out_value\n",
    "    \n",
    "    def remove(self, value):\n",
    "        \"\"\"Remove a node given its value.\"\"\"\n",
    "        if self.head is None:\n",
    "            return\n",
    "        if self.head.value == value:\n",
    "            self.head = self.head.next\n",
    "            return\n",
    "        \n",
    "        node = self.head\n",
    "        while node.next:\n",
    "            if node.next.value == value:\n",
    "                node.next = node.next.next\n",
    "                return\n",
    "            node = node.next\n",
    "        \n",
    "    def insert(self, value, pos):\n",
    "        \"\"\"Insert data at some position of a linked list.\"\"\"\n",
    "        if pos == 0:\n",
    "            self.prepend(value)\n",
    "        elif pos > self.size():\n",
    "            self.append(value)\n",
    "        else:\n",
    "            newnode = Node(value)\n",
    "            node = self.head\n",
    "            step = 0\n",
    "            while node.next:\n",
    "                if pos-1 == step:\n",
    "                    newnode.next = node.next\n",
    "                    node.next = newnode\n",
    "                node = node.next\n",
    "                step += 1\n",
    "            return\n",
    "        \n",
    "    def size(self):\n",
    "        \"\"\"Return the size of a linked list\"\"\"\n",
    "        node = self.head\n",
    "        counter = 0\n",
    "        while node:\n",
    "            counter += 1\n",
    "            node = node.next\n",
    "        return counter\n",
    "    \n",
    "    def to_list(self):\n",
    "        \"\"\"Return the list form of a linked list\"\"\"\n",
    "        out_list = []\n",
    "        node = self.head\n",
    "        \n",
    "        while node:\n",
    "            out_list.append(node.value)\n",
    "            node = node.next\n",
    "        return out_list"
   ]
  },
  {
   "cell_type": "code",
   "execution_count": 4,
   "metadata": {},
   "outputs": [],
   "source": [
    "linked_list = LinkedList()\n",
    "linked_list.prepend(1)"
   ]
  },
  {
   "cell_type": "code",
   "execution_count": 5,
   "metadata": {},
   "outputs": [],
   "source": [
    "linked_list.prepend(2)\n",
    "linked_list.prepend(3)"
   ]
  },
  {
   "cell_type": "code",
   "execution_count": 6,
   "metadata": {
    "scrolled": true
   },
   "outputs": [
    {
     "data": {
      "text/plain": [
       "[3, 2, 1]"
      ]
     },
     "execution_count": 6,
     "metadata": {},
     "output_type": "execute_result"
    }
   ],
   "source": [
    "linked_list.to_list()"
   ]
  },
  {
   "cell_type": "code",
   "execution_count": 7,
   "metadata": {},
   "outputs": [],
   "source": [
    "linked_list.append(4)"
   ]
  },
  {
   "cell_type": "code",
   "execution_count": 8,
   "metadata": {
    "scrolled": true
   },
   "outputs": [
    {
     "data": {
      "text/plain": [
       "[3, 2, 1, 4]"
      ]
     },
     "execution_count": 8,
     "metadata": {},
     "output_type": "execute_result"
    }
   ],
   "source": [
    "linked_list.to_list()"
   ]
  },
  {
   "cell_type": "code",
   "execution_count": 9,
   "metadata": {},
   "outputs": [
    {
     "data": {
      "text/plain": [
       "[3, 2, 1, 4, 5]"
      ]
     },
     "execution_count": 9,
     "metadata": {},
     "output_type": "execute_result"
    }
   ],
   "source": [
    "linked_list.append(5)\n",
    "linked_list.to_list()"
   ]
  },
  {
   "cell_type": "code",
   "execution_count": 10,
   "metadata": {},
   "outputs": [
    {
     "data": {
      "text/plain": [
       "[2, 1, 4, 5]"
      ]
     },
     "execution_count": 10,
     "metadata": {},
     "output_type": "execute_result"
    }
   ],
   "source": [
    "linked_list.remove(3)\n",
    "linked_list.to_list()"
   ]
  },
  {
   "cell_type": "code",
   "execution_count": 19,
   "metadata": {},
   "outputs": [],
   "source": [
    "linked_list.insert(0,1)"
   ]
  },
  {
   "cell_type": "code",
   "execution_count": 20,
   "metadata": {},
   "outputs": [
    {
     "data": {
      "text/plain": [
       "[2, 0, 1, 7, 7, 7, 4, 5]"
      ]
     },
     "execution_count": 20,
     "metadata": {},
     "output_type": "execute_result"
    }
   ],
   "source": [
    "linked_list.to_list()"
   ]
  },
  {
   "cell_type": "code",
   "execution_count": 13,
   "metadata": {},
   "outputs": [
    {
     "data": {
      "text/plain": [
       "1"
      ]
     },
     "execution_count": 13,
     "metadata": {},
     "output_type": "execute_result"
    }
   ],
   "source": [
    "linked_list.search(1).value"
   ]
  },
  {
   "cell_type": "code",
   "execution_count": 14,
   "metadata": {},
   "outputs": [
    {
     "data": {
      "text/plain": [
       "[2, 1, 7, 4, 5]"
      ]
     },
     "execution_count": 14,
     "metadata": {},
     "output_type": "execute_result"
    }
   ],
   "source": [
    "linked_list.to_list()"
   ]
  },
  {
   "cell_type": "code",
   "execution_count": null,
   "metadata": {},
   "outputs": [],
   "source": []
  }
 ],
 "metadata": {
  "kernelspec": {
   "display_name": "Python 3",
   "language": "python",
   "name": "python3"
  },
  "language_info": {
   "codemirror_mode": {
    "name": "ipython",
    "version": 3
   },
   "file_extension": ".py",
   "mimetype": "text/x-python",
   "name": "python",
   "nbconvert_exporter": "python",
   "pygments_lexer": "ipython3",
   "version": "3.7.6"
  }
 },
 "nbformat": 4,
 "nbformat_minor": 4
}
