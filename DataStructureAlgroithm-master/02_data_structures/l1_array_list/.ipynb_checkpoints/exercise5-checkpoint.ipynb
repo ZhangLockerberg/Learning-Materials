{
 "cells": [
  {
   "cell_type": "code",
   "execution_count": 1,
   "metadata": {},
   "outputs": [],
   "source": [
    "#helper function\n",
    "class Node:\n",
    "    def __init__(self, value):\n",
    "        self.value = value\n",
    "        self.next = None"
   ]
  },
  {
   "cell_type": "code",
   "execution_count": 2,
   "metadata": {},
   "outputs": [],
   "source": [
    "class LinkedList:\n",
    "    def __init__(self):\n",
    "        self.head = None\n",
    "    \n",
    "    def append(self, value):\n",
    "        if self.head is None:\n",
    "            self.head = Node(value)\n",
    "            return\n",
    "        \n",
    "        node = self.head\n",
    "        while node.next:\n",
    "            node = node.next\n",
    "        \n",
    "        node.next = Node(value)\n",
    "        \n",
    "    def __iter__(self):\n",
    "        node = self.head\n",
    "        while node:\n",
    "            yield node.value\n",
    "            node = node.next\n",
    "            \n",
    "    def __repr__(self):\n",
    "        return str([v for v in self])\n",
    "    \n",
    "    def to_list(self):\n",
    "        node = self.head\n",
    "        out_list = []\n",
    "        while node:\n",
    "            out_list.append(node.value)\n",
    "            node = node.next\n",
    "        return out_list"
   ]
  },
  {
   "cell_type": "code",
   "execution_count": 3,
   "metadata": {},
   "outputs": [],
   "source": [
    "linkedlist_ = LinkedList()\n",
    "for i in [3,4,5,6,7,8,9]:\n",
    "    linkedlist_.append(i)"
   ]
  },
  {
   "cell_type": "code",
   "execution_count": 4,
   "metadata": {},
   "outputs": [],
   "source": [
    "mylist = linkedlist_"
   ]
  },
  {
   "cell_type": "code",
   "execution_count": 5,
   "metadata": {},
   "outputs": [
    {
     "data": {
      "text/plain": [
       "[3, 4, 5, 6, 7, 8, 9]"
      ]
     },
     "execution_count": 5,
     "metadata": {},
     "output_type": "execute_result"
    }
   ],
   "source": [
    "linkedlist_.to_list()"
   ]
  },
  {
   "cell_type": "code",
   "execution_count": 6,
   "metadata": {},
   "outputs": [],
   "source": [
    "def reverseinplace(linkedlist):\n",
    "    \"\"\"\n",
    "    Reverse the inputted linked list\n",
    "    \n",
    "    Args(obj): Linked list to be reversed\n",
    "    \n",
    "    Return: Reversed Linked List\n",
    "    \"\"\"\n",
    "    prev = None\n",
    "    cur = linkedlist.head\n",
    "    old = cur\n",
    "    \n",
    "    while cur:\n",
    "        cur = cur.next\n",
    "        old.next = prev\n",
    "        prev = old\n",
    "        old = cur\n",
    "    \n",
    "    linkedlist.head = prev\n",
    "    return linkedlist"
   ]
  },
  {
   "cell_type": "code",
   "execution_count": 7,
   "metadata": {},
   "outputs": [],
   "source": [
    "reversed_linkedlist = reverseinplace(linkedlist_)"
   ]
  },
  {
   "cell_type": "code",
   "execution_count": 8,
   "metadata": {},
   "outputs": [
    {
     "name": "stdout",
     "output_type": "stream",
     "text": [
      "[9, 8, 7, 6, 5, 4, 3]\n"
     ]
    }
   ],
   "source": [
    "print(reversed_linkedlist)"
   ]
  },
  {
   "cell_type": "code",
   "execution_count": 9,
   "metadata": {},
   "outputs": [
    {
     "name": "stdout",
     "output_type": "stream",
     "text": [
      "[90, 2, 5, 1, -3, 100]\n",
      "[100, -3, 1, 5, 2, 90]\n",
      "Pass\n"
     ]
    }
   ],
   "source": [
    "llist1 = LinkedList()\n",
    "for value in [4,2,5,1,-3,0]:\n",
    "    llist1.append(value)\n",
    "\n",
    "llist2 = LinkedList()\n",
    "for value in [90,2,5,1,-3,100]:\n",
    "    llist2.append(value)\n",
    "\n",
    "\n",
    "\n",
    "#printList(llist1)\n",
    "#printList(reverseinNewLinked_list(llist1))\n",
    "\n",
    "\n",
    "#printList(llist2)\n",
    "#printList(reverseinNewLinked_list(llist2))\n",
    "\n",
    "print(llist2)\n",
    "print(reverseinplace(llist2))\n",
    "\n",
    "print (\"Pass\" if (llist2 == reverseinplace(llist2)) else \"Fail\")"
   ]
  },
  {
   "cell_type": "code",
   "execution_count": null,
   "metadata": {},
   "outputs": [],
   "source": []
  }
 ],
 "metadata": {
  "kernelspec": {
   "display_name": "Python 3",
   "language": "python",
   "name": "python3"
  },
  "language_info": {
   "codemirror_mode": {
    "name": "ipython",
    "version": 3
   },
   "file_extension": ".py",
   "mimetype": "text/x-python",
   "name": "python",
   "nbconvert_exporter": "python",
   "pygments_lexer": "ipython3",
   "version": "3.7.6"
  }
 },
 "nbformat": 4,
 "nbformat_minor": 4
}
