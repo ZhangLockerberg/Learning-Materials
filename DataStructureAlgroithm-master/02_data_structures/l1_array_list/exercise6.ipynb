{
 "cells": [
  {
   "cell_type": "code",
   "execution_count": 1,
   "metadata": {},
   "outputs": [],
   "source": [
    "class Node:\n",
    "    def __init__(self, value):\n",
    "        self.value = value\n",
    "        self.next = None\n",
    "\n",
    "class LinkedList:\n",
    "    def __init__(self, init_list=None):\n",
    "        self.head = None\n",
    "        if init_list:\n",
    "            for value in init_list:\n",
    "                self.append(value)\n",
    "        \n",
    "    def append(self, value):\n",
    "        if self.head is None:\n",
    "            self.head = Node(value)\n",
    "            return\n",
    "        node = self.head\n",
    "        while node.next:\n",
    "            node = node.next\n",
    "        node.next = Node(value)\n",
    "        return"
   ]
  },
  {
   "cell_type": "code",
   "execution_count": 2,
   "metadata": {},
   "outputs": [],
   "source": [
    "linked_list = LinkedList([3,4,5,6,7,8,9,10])"
   ]
  },
  {
   "cell_type": "code",
   "execution_count": 3,
   "metadata": {},
   "outputs": [],
   "source": [
    "start_node = linked_list.head.next\n",
    "\n",
    "node = linked_list.head\n",
    "while node.next:\n",
    "    node = node.next\n",
    "node.next = start_node"
   ]
  },
  {
   "cell_type": "code",
   "execution_count": 4,
   "metadata": {},
   "outputs": [
    {
     "data": {
      "text/plain": [
       "False"
      ]
     },
     "execution_count": 4,
     "metadata": {},
     "output_type": "execute_result"
    }
   ],
   "source": [
    "# requires further thought\n",
    "def findLoopInLikedList(linked_list):\n",
    "    node = linked_list.head\n",
    "    slow = node.next\n",
    "    fast = node.next.next\n",
    "    while node.next:\n",
    "        node = node.next\n",
    "        slow = slow.next\n",
    "        fast = fast.next.next\n",
    "        if slow.value == fast.value:\n",
    "            return True\n",
    "        else: return False\n",
    "\n",
    "findLoopInLikedList(linked_list)"
   ]
  },
  {
   "cell_type": "code",
   "execution_count": 6,
   "metadata": {},
   "outputs": [
    {
     "data": {
      "text/plain": [
       "True"
      ]
     },
     "execution_count": 6,
     "metadata": {},
     "output_type": "execute_result"
    }
   ],
   "source": [
    "def iscircular(linked_list):\n",
    "    \"\"\"\n",
    "    Determine wether the Linked List is circular or not\n",
    "\n",
    "    Args:\n",
    "       linked_list(obj): Linked List to be checked\n",
    "    Returns:\n",
    "       bool: Return True if the linked list is circular, return False otherwise\n",
    "    \"\"\"\n",
    "\n",
    "    if linked_list.head == None:\n",
    "        return False\n",
    "\n",
    "    slow = linked_list.head\n",
    "    fast = slow\n",
    "\n",
    "    while fast!=None and fast.next!=None:\n",
    "        if slow.next == slow:\n",
    "            return True\n",
    "        slow = slow.next\n",
    "        fast = fast.next.next\n",
    "        if slow == fast:\n",
    "            return True\n",
    "    return False\n",
    "\n",
    "iscircular(linked_list)"
   ]
  },
  {
   "cell_type": "code",
   "execution_count": null,
   "metadata": {},
   "outputs": [],
   "source": []
  }
 ],
 "metadata": {
  "kernelspec": {
   "display_name": "Python 3",
   "language": "python",
   "name": "python3"
  },
  "language_info": {
   "codemirror_mode": {
    "name": "ipython",
    "version": 3
   },
   "file_extension": ".py",
   "mimetype": "text/x-python",
   "name": "python",
   "nbconvert_exporter": "python",
   "pygments_lexer": "ipython3",
   "version": "3.7.6"
  }
 },
 "nbformat": 4,
 "nbformat_minor": 4
}
